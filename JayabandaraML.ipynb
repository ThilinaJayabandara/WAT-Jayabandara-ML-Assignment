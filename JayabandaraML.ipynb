{
  "nbformat": 4,
  "nbformat_minor": 0,
  "metadata": {
    "colab": {
      "provenance": []
    },
    "kernelspec": {
      "name": "python3",
      "display_name": "Python 3"
    },
    "language_info": {
      "name": "python"
    }
  },
  "cells": [
    {
      "cell_type": "markdown",
      "source": [
        "# **Loading Data**"
      ],
      "metadata": {
        "id": "RhRMqbViPbJM"
      }
    },
    {
      "cell_type": "code",
      "execution_count": 1,
      "metadata": {
        "colab": {
          "base_uri": "https://localhost:8080/"
        },
        "id": "M2irYmMvPQ5d",
        "outputId": "cf678ce3-930d-412b-adcd-67b5f9cd8b9a"
      },
      "outputs": [
        {
          "output_type": "stream",
          "name": "stdout",
          "text": [
            "Downloading data from https://www.cs.toronto.edu/~kriz/cifar-10-python.tar.gz\n",
            "170498071/170498071 [==============================] - 5s 0us/step\n",
            "Number of training images: 50000\n",
            "Number of testing images: 10000\n",
            "Number of classes: 10\n",
            "Shape of an image: (32, 32, 3)\n",
            "Number of data entries per class in the training set: {0: 5000, 1: 5000, 2: 5000, 3: 5000, 4: 5000, 5: 5000, 6: 5000, 7: 5000, 8: 5000, 9: 5000}\n"
          ]
        }
      ],
      "source": [
        "import tensorflow as tf\n",
        "from tensorflow.keras.datasets import cifar10\n",
        "\n",
        "# Load the CIFAR-10 dataset\n",
        "(xTrain, yTrain), (xTest, yTest) = cifar10.load_data()\n",
        "\n",
        "# Basic information about the dataset\n",
        "print(\"Number of training images:\", xTrain.shape[0])\n",
        "print(\"Number of testing images:\", xTest.shape[0])\n",
        "print(\"Number of classes:\", len(set(yTrain.flatten())))\n",
        "print(\"Shape of an image:\", xTrain.shape[1:])\n",
        "\n",
        "# Display the number of data entries for each class in the training dataset\n",
        "import numpy as np\n",
        "\n",
        "unique, counts = np.unique(yTrain, return_counts=True)\n",
        "classCounts = dict(zip(unique, counts))\n",
        "print(\"Number of data entries per class in the training set:\", classCounts)\n"
      ]
    },
    {
      "cell_type": "code",
      "source": [
        "boxTrain = tf.convert_to_tensor([[0.5, 0.5, 1.0, 1.0] for _ in range(yTrain.shape[0])], dtype=tf.float32)\n",
        "boxTest = tf.convert_to_tensor([[0.5, 0.5, 1.0, 1.0] for _ in range(yTest.shape[0])], dtype=tf.float32)"
      ],
      "metadata": {
        "id": "lzT4EQ3wQue3"
      },
      "execution_count": 2,
      "outputs": []
    },
    {
      "cell_type": "markdown",
      "source": [
        "# **Prepare the Model**"
      ],
      "metadata": {
        "id": "YrVuT5xBPlfR"
      }
    },
    {
      "cell_type": "code",
      "source": [
        "import tensorflow as tf\n",
        "from tensorflow.keras.models import Model\n",
        "from tensorflow.keras.layers import Input, Conv2D, MaxPooling2D, Flatten, Dense, Dropout\n",
        "from tensorflow.keras.optimizers import Adam\n",
        "from tensorflow.keras.losses import SparseCategoricalCrossentropy, MeanSquaredError"
      ],
      "metadata": {
        "id": "cUjC-AcwQ6Zs"
      },
      "execution_count": 4,
      "outputs": []
    },
    {
      "cell_type": "code",
      "source": [
        "# Define the CNN model\n",
        "inputLayer = Input(shape=(32, 32, 3))\n",
        "x = Conv2D(32, (3, 3), activation='relu', padding='same')(inputLayer)\n",
        "x = MaxPooling2D((2, 2))(x)\n",
        "x = Conv2D(64, (3, 3), activation='relu', padding='same')(x)\n",
        "x = MaxPooling2D((2, 2))(x)\n",
        "x = Conv2D(128, (3, 3), activation='relu', padding='same')(x)\n",
        "x = Flatten()(x)\n",
        "x = Dense(256, activation='relu')(x)\n",
        "x = Dropout(0.5)(x)\n",
        "classOutput = Dense(10, activation='softmax', name='class_output')(x)  # Classification output\n",
        "boxOutput = Dense(4, activation='sigmoid', name='box_output')(x)  # Bounding box output\n",
        "\n",
        "model = Model(inputs=inputLayer, outputs=[classOutput, boxOutput])\n",
        "\n",
        "# Losses\n",
        "classification_loss = SparseCategoricalCrossentropy()\n",
        "bbox_loss = MeanSquaredError()\n",
        "\n",
        "# Optimizer\n",
        "optimizer = Adam(learning_rate=0.001)\n",
        "\n",
        "# Compile the model\n",
        "model.compile(optimizer=optimizer, loss={'class_output': classification_loss, 'box_output': bbox_loss},\n",
        "              metrics={'class_output': 'accuracy', 'box_output': 'mse'})"
      ],
      "metadata": {
        "id": "iDM38X5mPlS6"
      },
      "execution_count": 5,
      "outputs": []
    },
    {
      "cell_type": "code",
      "source": [
        "model.summary()"
      ],
      "metadata": {
        "colab": {
          "base_uri": "https://localhost:8080/"
        },
        "id": "jX_y7vh1Q8us",
        "outputId": "843cd9f4-6a29-49e7-e6e4-6675d064b866"
      },
      "execution_count": 6,
      "outputs": [
        {
          "output_type": "stream",
          "name": "stdout",
          "text": [
            "Model: \"model\"\n",
            "__________________________________________________________________________________________________\n",
            " Layer (type)                Output Shape                 Param #   Connected to                  \n",
            "==================================================================================================\n",
            " input_1 (InputLayer)        [(None, 32, 32, 3)]          0         []                            \n",
            "                                                                                                  \n",
            " conv2d (Conv2D)             (None, 32, 32, 32)           896       ['input_1[0][0]']             \n",
            "                                                                                                  \n",
            " max_pooling2d (MaxPooling2  (None, 16, 16, 32)           0         ['conv2d[0][0]']              \n",
            " D)                                                                                               \n",
            "                                                                                                  \n",
            " conv2d_1 (Conv2D)           (None, 16, 16, 64)           18496     ['max_pooling2d[0][0]']       \n",
            "                                                                                                  \n",
            " max_pooling2d_1 (MaxPoolin  (None, 8, 8, 64)             0         ['conv2d_1[0][0]']            \n",
            " g2D)                                                                                             \n",
            "                                                                                                  \n",
            " conv2d_2 (Conv2D)           (None, 8, 8, 128)            73856     ['max_pooling2d_1[0][0]']     \n",
            "                                                                                                  \n",
            " flatten (Flatten)           (None, 8192)                 0         ['conv2d_2[0][0]']            \n",
            "                                                                                                  \n",
            " dense (Dense)               (None, 256)                  2097408   ['flatten[0][0]']             \n",
            "                                                                                                  \n",
            " dropout (Dropout)           (None, 256)                  0         ['dense[0][0]']               \n",
            "                                                                                                  \n",
            " class_output (Dense)        (None, 10)                   2570      ['dropout[0][0]']             \n",
            "                                                                                                  \n",
            " box_output (Dense)          (None, 4)                    1028      ['dropout[0][0]']             \n",
            "                                                                                                  \n",
            "==================================================================================================\n",
            "Total params: 2194254 (8.37 MB)\n",
            "Trainable params: 2194254 (8.37 MB)\n",
            "Non-trainable params: 0 (0.00 Byte)\n",
            "__________________________________________________________________________________________________\n"
          ]
        }
      ]
    },
    {
      "cell_type": "markdown",
      "source": [
        "# **Train  Model**"
      ],
      "metadata": {
        "id": "KLiVeUoAPv31"
      }
    },
    {
      "cell_type": "code",
      "source": [
        "model.fit(xTrain, {'class_output': yTrain, 'box_output': boxTrain},\n",
        "          validation_data=(xTest, {'class_output': yTest, 'box_output': boxTest}),\n",
        "          epochs=10, batch_size=64)"
      ],
      "metadata": {
        "id": "LCPdMk8EP65a"
      },
      "execution_count": null,
      "outputs": []
    },
    {
      "cell_type": "code",
      "source": [
        "model.evaluate(xTest, {'class_output': yTest, 'box_output': boxTest})"
      ],
      "metadata": {
        "colab": {
          "base_uri": "https://localhost:8080/"
        },
        "id": "qVSOmfxciz08",
        "outputId": "e04caf0d-7fe8-445c-f858-81b4edbf2ebe"
      },
      "execution_count": 9,
      "outputs": [
        {
          "output_type": "stream",
          "name": "stdout",
          "text": [
            "313/313 [==============================] - 8s 26ms/step - loss: 1.0120 - class_output_loss: 1.0120 - box_output_loss: 2.3903e-05 - class_output_accuracy: 0.6792 - box_output_mse: 2.3903e-05\n"
          ]
        },
        {
          "output_type": "execute_result",
          "data": {
            "text/plain": [
              "[1.0119901895523071,\n",
              " 1.0119659900665283,\n",
              " 2.3902937755337916e-05,\n",
              " 0.6791999936103821,\n",
              " 2.3902937755337916e-05]"
            ]
          },
          "metadata": {},
          "execution_count": 9
        }
      ]
    },
    {
      "cell_type": "code",
      "source": [
        "import numpy as np\n",
        "import matplotlib.pyplot as plt\n",
        "from sklearn.metrics import confusion_matrix\n",
        "import seaborn as sns\n",
        "\n",
        "# Predict classes on the test data\n",
        "predictions = model.predict(xTest)\n",
        "predicted_classes = np.argmax(predictions[0], axis=1)  # Extract predicted classes\n",
        "\n",
        "# True classes\n",
        "true_classes = yTest.flatten()\n",
        "\n",
        "# Compute the confusion matrix\n",
        "cm = confusion_matrix(true_classes, predicted_classes)\n",
        "\n",
        "# Visualize the confusion matrix\n",
        "plt.figure(figsize=(10, 8))\n",
        "sns.heatmap(cm, annot=True, fmt='d', cmap='Blues', xticklabels=range(10), yticklabels=range(10))\n",
        "plt.title('Confusion Matrix')\n",
        "plt.ylabel('True Class')\n",
        "plt.xlabel('Predicted Class')\n",
        "plt.show()\n"
      ],
      "metadata": {
        "colab": {
          "base_uri": "https://localhost:8080/",
          "height": 736
        },
        "id": "Kk9f3IyVjBW8",
        "outputId": "ec36dc26-4996-4d97-ee4c-228044400a23"
      },
      "execution_count": 10,
      "outputs": [
        {
          "output_type": "stream",
          "name": "stdout",
          "text": [
            "313/313 [==============================] - 15s 48ms/step\n"
          ]
        },
        {
          "output_type": "display_data",
          "data": {
            "text/plain": [
              "<Figure size 1000x800 with 2 Axes>"
            ],
            "image/png": "[encoded data removed]"
          },
          "metadata": {}
        }
      ]
    },
    {
      "cell_type": "markdown",
      "source": [
        "# **Use the Trained Model for Detecting Objects**"
      ],
      "metadata": {
        "id": "ckDXUQmqPw-C"
      }
    },
    {
      "cell_type": "code",
      "source": [
        "import numpy as np\n",
        "import tensorflow as tf\n",
        "from tensorflow.keras.preprocessing import image\n",
        "import matplotlib.pyplot as plt\n",
        "import matplotlib.patches as patches\n",
        "\n",
        "# CIFAR-10 class labels\n",
        "labels = ['Airplane', 'Automobile', 'Bird', 'Cat', 'Deer', 'Dog', 'Frog', 'Horse', 'Ship', 'Truck']\n",
        "\n",
        "# Load and preprocess the image\n",
        "def load_and_preprocess_image(img_path, target_size=(32, 32)):\n",
        "    img = image.load_img(img_path, target_size=target_size)  # Resize the image to 32x32 for model input\n",
        "    img_array = image.img_to_array(img)  # Convert the image to a numpy array\n",
        "    img_array_expanded = np.expand_dims(img_array, axis=0) / 255.0  # Normalize and add batch dimension\n",
        "    return img, img_array_expanded\n",
        "\n",
        "img_path = \"/content/sample_data/Screenshot 2024-04-24 at 10.51.24.png\"\n",
        "original_img, processed_img = load_and_preprocess_image(img_path)\n",
        "\n",
        "# Predict using the trained model\n",
        "predictions = model.predict(processed_img)\n",
        "predicted_class_index = np.argmax(predictions[0], axis=1)[0]  # Get the index of the class with the highest probability\n",
        "predicted_class_label = labels[predicted_class_index]  # Get the label from the labels list\n",
        "predicted_bbox = predictions[1][0]  # Get the predicted bounding box\n",
        "\n",
        "# Plotting\n",
        "fig, ax = plt.subplots(1)\n",
        "ax.imshow(original_img)\n",
        "\n",
        "# Bounding box: convert normalized coordinates to pixel coordinates for visualization\n",
        "x_center, y_center, width, height = predicted_bbox\n",
        "x = (x_center - width / 2) * original_img.width\n",
        "y = (y_center - height / 2) * original_img.height\n",
        "rect = patches.Rectangle((x, y), width * original_img.width, height * original_img.height, linewidth=1, edgecolor='r', facecolor='none')\n",
        "\n",
        "ax.add_patch(rect)\n",
        "ax.text(x, y, f'Class: {predicted_class_label}', bbox=dict(facecolor='white', alpha=0.5))\n",
        "plt.show()\n",
        "\n",
        "# Printing the class label for class 4\n",
        "print(\"Class 4 corresponds to:\", labels[4])\n"
      ],
      "metadata": {
        "colab": {
          "base_uri": "https://localhost:8080/",
          "height": 471
        },
        "id": "SosxSb43P6ZO",
        "outputId": "e31e54f6-0d0c-4f70-fd22-060c541aa136"
      },
      "execution_count": 14,
      "outputs": [
        {
          "output_type": "stream",
          "name": "stdout",
          "text": [
            "1/1 [==============================] - 0s 93ms/step\n"
          ]
        },
        {
          "output_type": "display_data",
          "data": {
            "text/plain": [
              "<Figure size 640x480 with 1 Axes>"
            ],
            "image/png": "[encoded data removed]"
          },
          "metadata": {}
        },
        {
          "output_type": "stream",
          "name": "stdout",
          "text": [
            "Class 4 corresponds to: Deer\n"
          ]
        }
      ]
    },
    {
      "cell_type": "markdown",
      "source": [
        "# **Evalution of the model**"
      ],
      "metadata": {
        "id": "u2XYAIkykYz4"
      }
    },
    {
      "cell_type": "code",
      "source": [
        "from sklearn.metrics import precision_recall_curve, average_precision_score\n",
        "from sklearn.preprocessing import label_binarize\n",
        "\n",
        "# Get model predictions for the test set\n",
        "y_pred_prob = model.predict(xTest)[0]  # Assuming the first output are the class probabilities\n",
        "\n",
        "# Binarize the labels for all classes\n",
        "y_true_bin = label_binarize(yTest, classes=[i for i in range(10)])\n",
        "\n",
        "# Calculate average precision for each class\n",
        "average_precision = {}\n",
        "for i in range(10):\n",
        "    average_precision[i] = average_precision_score(y_true_bin[:, i], y_pred_prob[:, i])\n",
        "\n",
        "# Calculate mean Average Precision (mAP)\n",
        "mean_ap = np.mean(list(average_precision.values()))\n",
        "print(f\"Mean Average Precision (mAP): {mean_ap}\")\n"
      ],
      "metadata": {
        "colab": {
          "base_uri": "https://localhost:8080/"
        },
        "id": "s8L0WceDkYWy",
        "outputId": "d017bbaf-ef32-46cc-e0b9-a3de92ddd593"
      },
      "execution_count": 15,
      "outputs": [
        {
          "output_type": "stream",
          "name": "stdout",
          "text": [
            "313/313 [==============================] - 10s 31ms/step\n",
            "Mean Average Precision (mAP): 0.751404666265465\n"
          ]
        }
      ]
    },
    {
      "cell_type": "code",
      "source": [
        "import matplotlib.pyplot as plt\n",
        "import numpy as np\n",
        "\n",
        "def visualize_predictions(image_batch, predictions, num_images=5):\n",
        "    # Assuming the first output is class probabilities and each prediction corresponds to a batch item\n",
        "    pred_probs = predictions[0]  # This should be the class probabilities output\n",
        "    fig, axes = plt.subplots(1, num_images, figsize=(20, 4))\n",
        "    for i, ax in enumerate(axes):\n",
        "        img = image_batch[i]  # Access the i-th image\n",
        "        pred_class = np.argmax(pred_probs[i])  # Get the index of the max logit for the i-th image in the batch\n",
        "        pred_confidence = np.max(pred_probs[i])  # Confidence as max probability for the i-th image\n",
        "\n",
        "        ax.imshow(img / 255.0)  # Assuming the image needs to be normalized for display\n",
        "        ax.set_title(f'Class: {labels[pred_class]} \\nConfidence: {pred_confidence:.2f}')\n",
        "        ax.axis('off')\n",
        "    plt.show()\n",
        "\n",
        "# Call the function with the actual data\n",
        "visualize_predictions(xTest[:10], predictions, num_images=10)\n"
      ],
      "metadata": {
        "id": "_ptLuLADkfeI"
      },
      "execution_count": null,
      "outputs": []
    },
    {
      "cell_type": "markdown",
      "source": [
        "# **Extra Credit Opportunities**"
      ],
      "metadata": {
        "id": "tgEXnHGuP2Gz"
      }
    },
    {
      "cell_type": "code",
      "source": [
        "import tensorflow as tf\n",
        "from tensorflow.keras.models import Model\n",
        "from tensorflow.keras.layers import Input, Dense, Flatten, Conv2D, MaxPooling2D, Dropout\n"
      ],
      "metadata": {
        "id": "qHWes_pdlPa7"
      },
      "execution_count": 20,
      "outputs": []
    },
    {
      "cell_type": "code",
      "source": [
        "from tensorflow.keras.applications.vgg16 import VGG16\n",
        "\n",
        "# Load VGG16 pre-trained on ImageNet without the top layer\n",
        "base_model = VGG16(weights='imagenet', include_top=False, input_shape=(32, 32, 3))\n",
        "\n",
        "# Freeze the layers of the base model\n",
        "for layer in base_model.layers:\n",
        "    layer.trainable = False\n",
        "\n",
        "# Add new layers on top of VGG16\n",
        "x = base_model.output\n",
        "x = Flatten()(x)\n",
        "x = Dense(512, activation='relu')(x)\n",
        "x = Dropout(0.5)(x)\n",
        "output = Dense(10, activation='softmax')(x)  # Assuming 10 classes\n",
        "\n",
        "model = Model(inputs=base_model.input, outputs=output)\n",
        "model.compile(optimizer='adam', loss='categorical_crossentropy', metrics=['accuracy'])\n"
      ],
      "metadata": {
        "colab": {
          "base_uri": "https://localhost:8080/"
        },
        "id": "hqgscZsrlQKG",
        "outputId": "35f99b19-ce4e-43e6-f5d6-7142ce5719dd"
      },
      "execution_count": 21,
      "outputs": [
        {
          "output_type": "stream",
          "name": "stdout",
          "text": [
            "Downloading data from https://storage.googleapis.com/tensorflow/keras-applications/vgg16/vgg16_weights_tf_dim_ordering_tf_kernels_notop.h5\n",
            "58889256/58889256 [==============================] - 1s 0us/step\n"
          ]
        }
      ]
    },
    {
      "cell_type": "code",
      "source": [
        "from tensorflow.keras.preprocessing.image import ImageDataGenerator\n",
        "\n",
        "# Define data augmentation configuration\n",
        "datagen = ImageDataGenerator(\n",
        "    rotation_range=20,\n",
        "    width_shift_range=0.2,\n",
        "    height_shift_range=0.2,\n",
        "    shear_range=0.2,\n",
        "    zoom_range=0.2,\n",
        "    horizontal_flip=True,\n",
        "    fill_mode='nearest'\n",
        ")\n",
        "\n",
        "# Example: Apply the data augmentation in model training\n",
        "# Assuming xTrain and yTrain are your training data and labels\n",
        "train_generator = datagen.flow(xTrain, yTrain, batch_size=32)\n"
      ],
      "metadata": {
        "id": "_5LjfmAMlSfy"
      },
      "execution_count": 22,
      "outputs": []
    },
    {
      "cell_type": "code",
      "source": [
        "from tensorflow.keras.layers import BatchNormalization\n",
        "\n",
        "# Example of a different architecture\n",
        "inputs = Input(shape=(32, 32, 3))\n",
        "x = Conv2D(32, (3, 3), activation='relu', padding='same')(inputs)\n",
        "x = BatchNormalization()(x)\n",
        "x = MaxPooling2D(pool_size=(2, 2))(x)\n",
        "x = Conv2D(64, (3, 3), activation='relu', padding='same')(x)\n",
        "x = BatchNormalization()(x)\n",
        "x = MaxPooling2D(pool_size=(2, 2))(x)\n",
        "x = Flatten()(x)\n",
        "x = Dense(256, activation='relu')(x)\n",
        "x = Dropout(0.3)(x)\n",
        "output = Dense(10, activation='softmax')(x)\n",
        "\n",
        "model2 = Model(inputs=inputs, outputs=output)\n",
        "model2.compile(optimizer='adam', loss='categorical_crossentropy', metrics=['accuracy'])\n",
        "\n",
        "# Hyperparameter tuning (example using a learning rate schedule)\n",
        "lr_schedule = tf.keras.optimizers.schedules.ExponentialDecay(\n",
        "    initial_learning_rate=1e-2,\n",
        "    decay_steps=10000,\n",
        "    decay_rate=0.9)\n",
        "optimizer = tf.keras.optimizers.Adam(learning_rate=lr_schedule)\n",
        "\n",
        "model2.compile(optimizer=optimizer, loss='categorical_crossentropy', metrics=['accuracy'])\n"
      ],
      "metadata": {
        "id": "CkpbdI6MlUfx"
      },
      "execution_count": 23,
      "outputs": []
    },
    {
      "cell_type": "code",
      "source": [
        "from tensorflow.keras.callbacks import ModelCheckpoint, EarlyStopping\n",
        "\n",
        "# Assuming data augmentation is set up as previously shown\n",
        "datagen = ImageDataGenerator(\n",
        "    rotation_range=20,\n",
        "    width_shift_range=0.2,\n",
        "    height_shift_range=0.2,\n",
        "    shear_range=0.2,\n",
        "    zoom_range=0.2,\n",
        "    horizontal_flip=True,\n",
        "    fill_mode='nearest'\n",
        ")\n",
        "\n",
        "# Prepare the model checkpoint and early stopping callbacks\n",
        "checkpoint = ModelCheckpoint('best_model.h5', monitor='val_loss', save_best_only=True, verbose=1)\n",
        "early_stopping = EarlyStopping(monitor='val_loss', patience=10, verbose=1)\n",
        "\n",
        "# Fit the model using a generator, which is useful for data augmentation\n",
        "history = model2.fit(\n",
        "    datagen.flow(xTrain, yTrain, batch_size=32),  # Training data generator\n",
        "    epochs=50,  # Number of epochs to train\n",
        "    validation_data=(xTrain, yTrain),  # Validation data\n",
        "    callbacks=[checkpoint, early_stopping],  # Callbacks for saving the best model and early stopping\n",
        "    verbose=1\n",
        ")\n",
        "\n",
        "# Plot training history\n",
        "import matplotlib.pyplot as plt\n",
        "\n",
        "plt.figure(figsize=(12, 6))\n",
        "plt.subplot(1, 2, 1)\n",
        "plt.plot(history.history['loss'], label='Training Loss')\n",
        "plt.plot(history.history['val_loss'], label='Validation Loss')\n",
        "plt.title('Training and Validation Loss')\n",
        "plt.xlabel('Epoch')\n",
        "plt.ylabel('Loss')\n",
        "plt.legend()\n",
        "\n",
        "plt.subplot(1, 2, 2)\n",
        "plt.plot(history.history['accuracy'], label='Training Accuracy')\n",
        "plt.plot(history.history['val_accuracy'], label='Validation Accuracy')\n",
        "plt.title('Training and Validation Accuracy')\n",
        "plt.xlabel('Epoch')\n",
        "plt.ylabel('Accuracy')\n",
        "plt.legend()\n",
        "\n",
        "plt.show()\n"
      ],
      "metadata": {
        "id": "LeEDQVcQlWzu"
      },
      "execution_count": null,
      "outputs": []
    }
  ]
}